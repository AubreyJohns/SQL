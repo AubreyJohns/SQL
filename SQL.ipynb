{
 "cells": [
  {
   "cell_type": "markdown",
   "metadata": {},
   "source": [
    "# Getting Started With SQL and BigQuery\n",
    "[Kaggles's Getting Started With SQL and BigQuery](https://www.kaggle.com/dansbecker/getting-started-with-sql-and-bigquery)\n",
    "\n",
    "[Exercise: Getting Started With SQL and BigQuery](https://www.kaggle.com/aubreyjohn/exercise-getting-started-with-sql-and-bigquery/edit)\n",
    "\n",
    "**Note:**\n",
    "\n",
    "Each Kaggle user can scan 5TB every 30 days for free. Once you hit that limit, you'll have to wait for it to reset."
   ]
  },
  {
   "cell_type": "markdown",
   "metadata": {},
   "source": [
    "# Select, From & Where\n",
    "[Kaggles's Select, From & Where](https://www.kaggle.com/dansbecker/select-from-where)\n",
    "\n",
    "[Exercise: Select, From & Where](https://www.kaggle.com/aubreyjohn/exercise-select-from-where/edit)\n",
    "\n"
   ]
  },
  {
   "cell_type": "markdown",
   "metadata": {},
   "source": [
    "# Groupby, having and count\n",
    "[Kaggles's Groupby, having and count](https://www.kaggle.com/learn/intro-to-sql)\n",
    "\n",
    "[Exercise: Groupby, having and count](https://www.kaggle.com/aubreyjohn/exercise-group-by-having-count/edit)\n"
   ]
  },
  {
   "cell_type": "markdown",
   "metadata": {},
   "source": [
    "# OrderBy\n",
    "[Kaggles's OrderBy](https://www.kaggle.com/dansbecker/order-by)\n",
    "\n",
    "[Exercise: OrderBy](https://www.kaggle.com/aubreyjohn/exercise-order-by/edit)\n"
   ]
  },
  {
   "cell_type": "markdown",
   "metadata": {},
   "source": [
    "# AS & WITH\n",
    "[Kaggles's AS & WITH](https://www.kaggle.com/dansbecker/as-with)\n",
    "\n",
    "[Exercise: AS & WITH](https://www.kaggle.com/aubreyjohn/exercise-as-with/edit)"
   ]
  },
  {
   "cell_type": "markdown",
   "metadata": {},
   "source": [
    "# Joining Data, LIKE\n",
    "[Kaggles's Joining Data](https://www.kaggle.com/dansbecker/joining-data)\n",
    "\n",
    "[Exercise: Joining Data](https://www.kaggle.com/aubreyjohn/exercise-joining-data/edit)"
   ]
  },
  {
   "cell_type": "markdown",
   "metadata": {},
   "source": [
    "# Joins and Unions\n",
    "[Kaggles's Joins and Unions](https://www.kaggle.com/alexisbcook/joins-and-unions)\n",
    "\n",
    "[Exercise: Joins and Unions](https://www.kaggle.com/aubreyjohn/exercise-joins-and-unions/edit)"
   ]
  },
  {
   "cell_type": "markdown",
   "metadata": {},
   "source": [
    "# Analytic Functions\n",
    "[Kaggles's Analytic Functions](https://www.kaggle.com/alexisbcook/analytic-functions)\n",
    "\n",
    "[Exercise: Analytic Functions](https://www.kaggle.com/aubreyjohn/exercise-analytic-functions/edit)"
   ]
  },
  {
   "cell_type": "markdown",
   "metadata": {},
   "source": [
    "# Nested and Repeated Data\n",
    "[Kaggles's Nested and Repeated Data](https://www.kaggle.com/alexisbcook/nested-and-repeated-data)\n",
    "\n",
    "[Exercise: Nested and Repeated Data](https://www.kaggle.com/aubreyjohn/exercise-nested-and-repeated-data/edit)"
   ]
  },
  {
   "cell_type": "markdown",
   "metadata": {},
   "source": [
    "# Writing Efficient Queries\n",
    "[Kaggles's Writing Efficient Queries](https://www.kaggle.com/alexisbcook/writing-efficient-queries)\n",
    "\n",
    "[Exercise: Writing Efficient Queries](https://www.kaggle.com/aubreyjohn/exercise-writing-efficient-queries/edit)"
   ]
  },
  {
   "cell_type": "markdown",
   "metadata": {},
   "source": [
    "# Connect to MySql Database"
   ]
  },
  {
   "cell_type": "code",
   "execution_count": 1,
   "metadata": {},
   "outputs": [],
   "source": [
    "import mysql.connector # import the mysql connector\n",
    "import pandas as pd"
   ]
  },
  {
   "cell_type": "code",
   "execution_count": 2,
   "metadata": {},
   "outputs": [
    {
     "name": "stdout",
     "output_type": "stream",
     "text": [
      "Success! Database connected successfully\n"
     ]
    }
   ],
   "source": [
    "db_conn = mysql.connector.connect(\n",
    "    host=\"localhost\", \n",
    "    user=\"root\", \n",
    "    passwd=\"\",\n",
    "    database=\"employees\"\n",
    ")\n",
    "\n",
    "if db_conn:    \n",
    "    print('Success! Database connected successfully') \n",
    "else: \n",
    "    print(\"Error! Database not connected\")"
   ]
  },
  {
   "cell_type": "markdown",
   "metadata": {},
   "source": [
    "# Show tables in a MySql Database"
   ]
  },
  {
   "cell_type": "code",
   "execution_count": 3,
   "metadata": {},
   "outputs": [
    {
     "data": {
      "text/plain": [
       "[('current_dept_emp',),\n",
       " ('departments',),\n",
       " ('dept_emp',),\n",
       " ('dept_emp_latest_date',),\n",
       " ('dept_manager',),\n",
       " ('employees',),\n",
       " ('salaries',),\n",
       " ('titles',)]"
      ]
     },
     "execution_count": 3,
     "metadata": {},
     "output_type": "execute_result"
    }
   ],
   "source": [
    "# show all the tables in our database \n",
    "mycursor = db_conn.cursor() \n",
    "query_tables = \"SHOW TABLES\" \n",
    "mycursor.execute(query_tables) \n",
    "all_tables = mycursor.fetchall() \n",
    "all_tables"
   ]
  },
  {
   "cell_type": "code",
   "execution_count": 4,
   "metadata": {},
   "outputs": [
    {
     "data": {
      "text/html": [
       "<div>\n",
       "<style scoped>\n",
       "    .dataframe tbody tr th:only-of-type {\n",
       "        vertical-align: middle;\n",
       "    }\n",
       "\n",
       "    .dataframe tbody tr th {\n",
       "        vertical-align: top;\n",
       "    }\n",
       "\n",
       "    .dataframe thead th {\n",
       "        text-align: right;\n",
       "    }\n",
       "</style>\n",
       "<table border=\"1\" class=\"dataframe\">\n",
       "  <thead>\n",
       "    <tr style=\"text-align: right;\">\n",
       "      <th></th>\n",
       "      <th>dept_no</th>\n",
       "      <th>dept_name</th>\n",
       "    </tr>\n",
       "  </thead>\n",
       "  <tbody>\n",
       "    <tr>\n",
       "      <th>0</th>\n",
       "      <td>d009</td>\n",
       "      <td>Customer Service</td>\n",
       "    </tr>\n",
       "    <tr>\n",
       "      <th>1</th>\n",
       "      <td>d005</td>\n",
       "      <td>Development</td>\n",
       "    </tr>\n",
       "    <tr>\n",
       "      <th>2</th>\n",
       "      <td>d002</td>\n",
       "      <td>Finance</td>\n",
       "    </tr>\n",
       "    <tr>\n",
       "      <th>3</th>\n",
       "      <td>d003</td>\n",
       "      <td>Human Resources</td>\n",
       "    </tr>\n",
       "    <tr>\n",
       "      <th>4</th>\n",
       "      <td>d001</td>\n",
       "      <td>Marketing</td>\n",
       "    </tr>\n",
       "  </tbody>\n",
       "</table>\n",
       "</div>"
      ],
      "text/plain": [
       "  dept_no         dept_name\n",
       "0    d009  Customer Service\n",
       "1    d005       Development\n",
       "2    d002           Finance\n",
       "3    d003   Human Resources\n",
       "4    d001         Marketing"
      ]
     },
     "execution_count": 4,
     "metadata": {},
     "output_type": "execute_result"
    }
   ],
   "source": [
    "departments_df = pd.read_sql_query(\"SELECT * FROM departments\",\n",
    "    db_conn)\n",
    "departments_df.head()"
   ]
  }
 ],
 "metadata": {
  "kernelspec": {
   "display_name": "Python 3",
   "language": "python",
   "name": "python3"
  },
  "language_info": {
   "codemirror_mode": {
    "name": "ipython",
    "version": 3
   },
   "file_extension": ".py",
   "mimetype": "text/x-python",
   "name": "python",
   "nbconvert_exporter": "python",
   "pygments_lexer": "ipython3",
   "version": "3.7.6"
  }
 },
 "nbformat": 4,
 "nbformat_minor": 2
}
