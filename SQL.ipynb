{
 "cells": [
  {
   "cell_type": "markdown",
   "metadata": {},
   "source": [
    "# Getting Started With SQL and BigQuery\n",
    "[Kaggles's Getting Started With SQL and BigQuery](https://www.kaggle.com/dansbecker/getting-started-with-sql-and-bigquery)\n",
    "\n",
    "[Exercise: Getting Started With SQL and BigQuery](https://www.kaggle.com/aubreyjohn/exercise-getting-started-with-sql-and-bigquery/edit)\n",
    "\n",
    "**Note:**\n",
    "\n",
    "Each Kaggle user can scan 5TB every 30 days for free. Once you hit that limit, you'll have to wait for it to reset."
   ]
  },
  {
   "cell_type": "markdown",
   "metadata": {},
   "source": [
    "# Select, From & Where\n",
    "[Kaggles's Select, From & Where](https://www.kaggle.com/dansbecker/select-from-where)\n",
    "\n",
    "[Exercise: Select, From & Where](https://www.kaggle.com/aubreyjohn/exercise-select-from-where/edit)\n",
    "\n"
   ]
  },
  {
   "cell_type": "markdown",
   "metadata": {},
   "source": [
    "# Groupby, having and count\n",
    "[Kaggles's Groupby, having and count](https://www.kaggle.com/learn/intro-to-sql)\n",
    "\n",
    "[Exercise: Groupby, having and count](https://www.kaggle.com/aubreyjohn/exercise-group-by-having-count/edit)\n"
   ]
  },
  {
   "cell_type": "markdown",
   "metadata": {},
   "source": [
    "# OrderBy\n",
    "[Kaggles's OrderBy](https://www.kaggle.com/dansbecker/order-by)\n",
    "\n",
    "[Exercise: OrderBy](https://www.kaggle.com/aubreyjohn/exercise-order-by/edit)\n"
   ]
  },
  {
   "cell_type": "markdown",
   "metadata": {},
   "source": [
    "# AS & WITH\n",
    "[Kaggles's AS & WITH](https://www.kaggle.com/dansbecker/as-with)\n",
    "\n",
    "[Exercise: AS & WITH](https://www.kaggle.com/aubreyjohn/exercise-as-with/edit)"
   ]
  },
  {
   "cell_type": "markdown",
   "metadata": {},
   "source": [
    "# Joining Data, LIKE\n",
    "[Kaggles's Joining Data](https://www.kaggle.com/dansbecker/joining-data)\n",
    "\n",
    "[Exercise: Joining Data](https://www.kaggle.com/aubreyjohn/exercise-joining-data/edit)"
   ]
  },
  {
   "cell_type": "markdown",
   "metadata": {},
   "source": [
    "# Joins and Unions\n",
    "[Kaggles's Joins and Unions](https://www.kaggle.com/alexisbcook/joins-and-unions)\n",
    "\n",
    "[Exercise: Joins and Unions](https://www.kaggle.com/aubreyjohn/exercise-joins-and-unions/edit)"
   ]
  },
  {
   "cell_type": "markdown",
   "metadata": {},
   "source": [
    "# Analytic Functions\n",
    "[Kaggles's Analytic Functions](https://www.kaggle.com/alexisbcook/analytic-functions)\n",
    "\n",
    "[Exercise: Analytic Functions](https://www.kaggle.com/aubreyjohn/exercise-analytic-functions/edit)"
   ]
  },
  {
   "cell_type": "markdown",
   "metadata": {},
   "source": [
    "# Nested and Repeated Data\n",
    "[Kaggles's Nested and Repeated Data](https://www.kaggle.com/alexisbcook/nested-and-repeated-data)\n",
    "\n",
    "[Exercise: Nested and Repeated Data](https://www.kaggle.com/aubreyjohn/exercise-nested-and-repeated-data/edit)"
   ]
  },
  {
   "cell_type": "code",
   "execution_count": null,
   "metadata": {},
   "outputs": [],
   "source": [
    "# w\n",
    "[Kaggles's Nested and Repeated Data](https://www.kaggle.com/alexisbcook/nested-and-repeated-data)\n",
    "\n",
    "[Exercise: Nested and Repeated Data](https://www.kaggle.com/aubreyjohn/exercise-nested-and-repeated-data/edit)"
   ]
  }
 ],
 "metadata": {
  "kernelspec": {
   "display_name": "Python 3",
   "language": "python",
   "name": "python3"
  },
  "language_info": {
   "codemirror_mode": {
    "name": "ipython",
    "version": 3
   },
   "file_extension": ".py",
   "mimetype": "text/x-python",
   "name": "python",
   "nbconvert_exporter": "python",
   "pygments_lexer": "ipython3",
   "version": "3.7.3"
  }
 },
 "nbformat": 4,
 "nbformat_minor": 2
}
